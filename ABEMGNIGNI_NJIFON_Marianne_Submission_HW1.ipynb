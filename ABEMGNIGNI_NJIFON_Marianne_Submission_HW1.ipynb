{
 "cells": [
  {
   "cell_type": "markdown",
   "metadata": {
    "collapsed": true
   },
   "source": [
    "# # Assignment HW1 (4. Image Classification)"
   ]
  },
  {
   "cell_type": "markdown",
   "metadata": {},
   "source": [
    "#New model Class"
   ]
  },
  {
   "cell_type": "code",
   "execution_count": 1,
   "metadata": {
    "collapsed": true
   },
   "outputs": [],
   "source": [
    "import torch\n",
    "import torch.nn as nn\n",
    "import numpy as np"
   ]
  },
  {
   "cell_type": "code",
   "execution_count": 2,
   "metadata": {
    "collapsed": false
   },
   "outputs": [],
   "source": [
    "class CNN(nn.Module):\n",
    "    def __init__(self, input_size, n_feature1, n_feature2, output_size,param):\n",
    "        super(CNN, self).__init__()\n",
    "        \n",
    "        self.conv_kernel_size = param[\"conv_kernel_size\"]\n",
    "        self.pooling_kernel_size = param[\"pooling_kernel_size\"]\n",
    "        self.stride_size = param[\"stride_size\"]\n",
    "        self.zero_padding = param[\"zero_padding\"]\n",
    "        self.max_pooling = param[\"max_pooling\"]\n",
    "        \n",
    "        if (self.zero_padding==True):\n",
    "            out_conv=int(np.sqrt(input_size)/(self.pooling_kernel_size **2))\n",
    "        else:\n",
    "            n1= (np.sqrt(input_size)-self.conv_kernel_size)/((self.pooling_kernel_size **2)*self.stride_size**2)\n",
    "            n2=1/((self.pooling_kernel_size**2)*self.stride_size)- (self.conv_kernel_size /(self.pooling_kernel_size *self.stride_size ))\n",
    "            out_conv=int((n1+n2+(1/self.pooling_kernel_size )))\n",
    "        \n",
    "        \n",
    "        self.out_conv=out_conv\n",
    "        self.n_feature1 = n_feature1\n",
    "        self.n_feature2 = n_feature2\n",
    "        self.conv1 = nn.Conv2d(in_channels=1, out_channels=self.n_feature1,\\\n",
    "                    kernel_size=self.conv_kernel_size, stride=self.stride_size,  padding=int(self.zero_padding*((self.conv_kernel_size-1)/2)))\n",
    "        \n",
    "        self.conv2 = nn.Conv2d(self.n_feature1, self.n_feature2,\\\n",
    "                    kernel_size =self.conv_kernel_size, stride=self.stride_size,  padding=int(self.zero_padding*((self.conv_kernel_size-1)/2)))           \n",
    "        self.fc1 = nn.Linear(self.n_feature2*self.out_conv*self.out_conv, output_size)\n",
    "        \n",
    "        \n",
    "    def forward(self, x, verbose=False):\n",
    "        x = self.conv1(x)\n",
    "        x = F.relu(x)\n",
    "        if(self.max_pooling == True):\n",
    "            x = F.max_pool2d(x, kernel_size=self.pooling_kernel_size)\n",
    "        else:\n",
    "            x = F.avg_pool2d(x, kernel_size=self.pooling_kernel_size)\n",
    "        x = self.conv2(x)\n",
    "        x = F.relu(x)\n",
    "        if(self.max_pooling == True):\n",
    "            x = F.max_pool2d(x, kernel_size=self.pooling_kernel_size)\n",
    "        else:\n",
    "            x = F.avg_pool2d(x, kernel_size=self.pooling_kernel_size)\n",
    "        print(x.shape)\n",
    "        x = x.view(-1, self.n_feature2*self.out_conv*self.out_conv)\n",
    "        x = self.fc1(x)\n",
    "        x = F.log_softmax(x, dim=1)\n",
    "        return x"
   ]
  },
  {
   "cell_type": "markdown",
   "metadata": {},
   "source": [
    "#Zero Padding Model Tensors"
   ]
  },
  {
   "cell_type": "code",
   "execution_count": 3,
   "metadata": {
    "collapsed": false
   },
   "outputs": [],
   "source": [
    "input_size  = 28*28   # images are 28x28 pixels\n",
    "output_size = 10      # there are 10 classes\n",
    "n_feature1=16\n",
    "n_feature2=32"
   ]
  },
  {
   "cell_type": "code",
   "execution_count": 4,
   "metadata": {
    "collapsed": false
   },
   "outputs": [],
   "source": [
    "param1={\"conv_kernel_size\": 5,\n",
    "\n",
    "        \"pooling_kernel_size\": 2,\n",
    "\n",
    "        \"stride_size\": 1,\n",
    "       \n",
    "       \"zero_padding\":True ,\n",
    "       \n",
    "        \"max_pooling\": True}\n",
    "model1=CNN(input_size,n_feature1,n_feature2,output_size,param1)"
   ]
  },
  {
   "cell_type": "code",
   "execution_count": 5,
   "metadata": {
    "collapsed": false
   },
   "outputs": [
    {
     "data": {
      "text/plain": [
       "<bound method Module.parameters of CNN(\n",
       "  (conv1): Conv2d(1, 16, kernel_size=(5, 5), stride=(1, 1), padding=(2, 2))\n",
       "  (conv2): Conv2d(16, 32, kernel_size=(5, 5), stride=(1, 1), padding=(2, 2))\n",
       "  (fc1): Linear(in_features=1568, out_features=10, bias=True)\n",
       ")>"
      ]
     },
     "execution_count": 5,
     "metadata": {},
     "output_type": "execute_result"
    }
   ],
   "source": [
    "model1.parameters"
   ]
  },
  {
   "cell_type": "code",
   "execution_count": 6,
   "metadata": {
    "collapsed": false
   },
   "outputs": [
    {
     "name": "stdout",
     "output_type": "stream",
     "text": [
      "torch.Size([16, 1, 5, 5])\n",
      "torch.Size([16])\n",
      "torch.Size([32, 16, 5, 5])\n",
      "torch.Size([32])\n",
      "torch.Size([10, 1568])\n",
      "torch.Size([10])\n"
     ]
    }
   ],
   "source": [
    "for i in model1.parameters():\n",
    "    print (i.size())"
   ]
  },
  {
   "cell_type": "markdown",
   "metadata": {},
   "source": [
    "#Valid Padding Model Tensors"
   ]
  },
  {
   "cell_type": "code",
   "execution_count": 7,
   "metadata": {
    "collapsed": false
   },
   "outputs": [],
   "source": [
    "param2={\"conv_kernel_size\": 5,\n",
    "\n",
    "        \"pooling_kernel_size\": 2,\n",
    "\n",
    "        \"stride_size\": 1,\n",
    "       \n",
    "       \"zero_padding\":False ,\n",
    "       \n",
    "        \"max_pooling\": True}\n",
    "model2=CNN(input_size,n_feature1,n_feature2,output_size,param2)"
   ]
  },
  {
   "cell_type": "code",
   "execution_count": 8,
   "metadata": {
    "collapsed": false
   },
   "outputs": [
    {
     "data": {
      "text/plain": [
       "<bound method Module.parameters of CNN(\n",
       "  (conv1): Conv2d(1, 16, kernel_size=(5, 5), stride=(1, 1))\n",
       "  (conv2): Conv2d(16, 32, kernel_size=(5, 5), stride=(1, 1))\n",
       "  (fc1): Linear(in_features=512, out_features=10, bias=True)\n",
       ")>"
      ]
     },
     "execution_count": 8,
     "metadata": {},
     "output_type": "execute_result"
    }
   ],
   "source": [
    "model2.parameters"
   ]
  },
  {
   "cell_type": "code",
   "execution_count": 9,
   "metadata": {
    "collapsed": false
   },
   "outputs": [
    {
     "name": "stdout",
     "output_type": "stream",
     "text": [
      "torch.Size([16, 1, 5, 5])\n",
      "torch.Size([16])\n",
      "torch.Size([32, 16, 5, 5])\n",
      "torch.Size([32])\n",
      "torch.Size([10, 512])\n",
      "torch.Size([10])\n"
     ]
    }
   ],
   "source": [
    "for i in model2.parameters():\n",
    "    print (i.size())"
   ]
  },
  {
   "cell_type": "code",
   "execution_count": 7,
   "metadata": {
    "collapsed": true
   },
   "outputs": [],
   "source": []
  },
  {
   "cell_type": "code",
   "execution_count": 8,
   "metadata": {
    "collapsed": true
   },
   "outputs": [],
   "source": []
  },
  {
   "cell_type": "code",
   "execution_count": null,
   "metadata": {
    "collapsed": true
   },
   "outputs": [],
   "source": []
  }
 ],
 "metadata": {
  "kernelspec": {
   "display_name": "Python 3",
   "language": "python",
   "name": "python3"
  },
  "language_info": {
   "codemirror_mode": {
    "name": "ipython",
    "version": 3
   },
   "file_extension": ".py",
   "mimetype": "text/x-python",
   "name": "python",
   "nbconvert_exporter": "python",
   "pygments_lexer": "ipython3",
   "version": "3.5.3"
  }
 },
 "nbformat": 4,
 "nbformat_minor": 2
}
